{
 "cells": [
  {
   "cell_type": "markdown",
   "metadata": {},
   "source": [
    "MySQL설정"
   ]
  },
  {
   "cell_type": "code",
   "execution_count": 104,
   "metadata": {},
   "outputs": [],
   "source": [
    "import pymysql\n",
    "conn = pymysql.connect(host=\"127.0.0.1\",user='root',password='0000',db='capston',charset='utf8')\n",
    "cur = conn.cursor()"
   ]
  },
  {
   "cell_type": "code",
   "execution_count": 105,
   "metadata": {},
   "outputs": [
    {
     "data": {
      "text/plain": [
       "0"
      ]
     },
     "execution_count": 105,
     "metadata": {},
     "output_type": "execute_result"
    }
   ],
   "source": [
    "# 테이블 생성\n",
    "table_name = 'normal1_1206'#테이블 이름(=센서 이름)\n",
    " \n",
    "cur.execute(\"CREATE TABLE \"+table_name+\"(time TIMESTAMP, Quatemion_z float ,Quatemion_y float ,Quatemion_x float, Quatemion_w float, Acceleration_x float, Acceleration_y float, Acceleration_z float)\")"
   ]
  },
  {
   "cell_type": "code",
   "execution_count": 106,
   "metadata": {},
   "outputs": [],
   "source": [
    "import serial\n",
    "from datetime import datetime\n",
    "import time"
   ]
  },
  {
   "cell_type": "markdown",
   "metadata": {},
   "source": [
    "통신 SQL 연동"
   ]
  },
  {
   "cell_type": "code",
   "execution_count": 107,
   "metadata": {},
   "outputs": [
    {
     "name": "stdout",
     "output_type": "stream",
     "text": [
      "Serial port closed.\n"
     ]
    }
   ],
   "source": [
    "# 시리얼 포트와 속도 설정\n",
    "serial_port = 'COM4'  # 실제 사용하는 포트에 맞게 변경해야 합니다.\n",
    "baud_rate = 912600\n",
    "\n",
    "# 시리얼 포트 열기\n",
    "ser = serial.Serial(serial_port, baud_rate, timeout=1)\n",
    "\n",
    "try:\n",
    "    while True:\n",
    "        # 데이터 수신\n",
    "        received_data = ser.readline().decode('utf-8').strip()\n",
    "        data_values = received_data.split(',')\n",
    "        Quatemion_z = data_values[1]\n",
    "        Quatemion_y = data_values[2]\n",
    "        Quatemion_x = data_values[3]\n",
    "        Quatemion_w = data_values[4]\n",
    "        Acceleration_x = data_values[-5]\n",
    "        Acceleration_y = data_values[-4]\n",
    "        Acceleration_z = data_values[-3]\n",
    "        battery = data_values[-2] \n",
    "        if received_data:\n",
    "            current_time = datetime.now().strftime(\"%Y-%m-%d %H:%M:%S\")\n",
    "            cur.execute(\"INSERT INTO \" + table_name + \" VALUES ( %s, %s, %s, %s, %s, %s, %s, %s)\", (current_time, Quatemion_z, Quatemion_y, Quatemion_x, Quatemion_w, Acceleration_x, Acceleration_y, Acceleration_z))\n",
    "            conn.commit()\n",
    "            \"\"\"\n",
    "            print(f\"Datetime: {current_time}\",end=\".\")\n",
    "            print(f\"{IMU_ms}\")\n",
    "            print(f\"Quatemion(z,y,x,w): {Quatemion_z,Quatemion_y,Quatemion_x,Quatemion_w}\")\n",
    "            print(f\"Acceleration: {Acceleration_x,Acceleration_y,Acceleration_z}\")\n",
    "            print(f\"battery: {battery}\")\n",
    "            \"\"\"\n",
    "except KeyboardInterrupt:\n",
    "    # 프로그램 종료 시 시리얼 포트 닫기\n",
    "    ser.close()\n",
    "    print(\"Serial port closed.\")\n",
    "\n",
    "conn.close()"
   ]
  },
  {
   "cell_type": "code",
   "execution_count": null,
   "metadata": {},
   "outputs": [],
   "source": [
    "conn.close()"
   ]
  }
 ],
 "metadata": {
  "kernelspec": {
   "display_name": "capston",
   "language": "python",
   "name": "python3"
  },
  "language_info": {
   "codemirror_mode": {
    "name": "ipython",
    "version": 3
   },
   "file_extension": ".py",
   "mimetype": "text/x-python",
   "name": "python",
   "nbconvert_exporter": "python",
   "pygments_lexer": "ipython3",
   "version": "3.9.5"
  }
 },
 "nbformat": 4,
 "nbformat_minor": 2
}
